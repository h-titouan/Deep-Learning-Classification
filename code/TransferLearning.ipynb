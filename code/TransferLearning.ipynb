{
  "nbformat": 4,
  "nbformat_minor": 0,
  "metadata": {
    "colab": {
      "provenance": []
    },
    "kernelspec": {
      "name": "python3",
      "display_name": "Python 3"
    },
    "language_info": {
      "name": "python"
    },
    "accelerator": "GPU",
    "gpuClass": "standard",
    "widgets": {
      "application/vnd.jupyter.widget-state+json": {
        "0a829a8cecef4aef90caeb50b31a214a": {
          "model_module": "@jupyter-widgets/controls",
          "model_name": "HBoxModel",
          "model_module_version": "1.5.0",
          "state": {
            "_dom_classes": [],
            "_model_module": "@jupyter-widgets/controls",
            "_model_module_version": "1.5.0",
            "_model_name": "HBoxModel",
            "_view_count": null,
            "_view_module": "@jupyter-widgets/controls",
            "_view_module_version": "1.5.0",
            "_view_name": "HBoxView",
            "box_style": "",
            "children": [
              "IPY_MODEL_4a5c9e4c633e4c9baa0d778c4817c2c5",
              "IPY_MODEL_cf51ed04441b4760854503b44bc75024",
              "IPY_MODEL_7ea2864cbedf446d927ea708891bd7d0"
            ],
            "layout": "IPY_MODEL_d7bef538ad324518acf36f78ee0309f7"
          }
        },
        "4a5c9e4c633e4c9baa0d778c4817c2c5": {
          "model_module": "@jupyter-widgets/controls",
          "model_name": "HTMLModel",
          "model_module_version": "1.5.0",
          "state": {
            "_dom_classes": [],
            "_model_module": "@jupyter-widgets/controls",
            "_model_module_version": "1.5.0",
            "_model_name": "HTMLModel",
            "_view_count": null,
            "_view_module": "@jupyter-widgets/controls",
            "_view_module_version": "1.5.0",
            "_view_name": "HTMLView",
            "description": "",
            "description_tooltip": null,
            "layout": "IPY_MODEL_8b42f3a1ae0b428db144ac70a2963da1",
            "placeholder": "​",
            "style": "IPY_MODEL_add581d6d1d745279a1bbc8e9d490c86",
            "value": "100%"
          }
        },
        "cf51ed04441b4760854503b44bc75024": {
          "model_module": "@jupyter-widgets/controls",
          "model_name": "FloatProgressModel",
          "model_module_version": "1.5.0",
          "state": {
            "_dom_classes": [],
            "_model_module": "@jupyter-widgets/controls",
            "_model_module_version": "1.5.0",
            "_model_name": "FloatProgressModel",
            "_view_count": null,
            "_view_module": "@jupyter-widgets/controls",
            "_view_module_version": "1.5.0",
            "_view_name": "ProgressView",
            "bar_style": "success",
            "description": "",
            "description_tooltip": null,
            "layout": "IPY_MODEL_222965ab83f64c7bb5cc66ee8c04cd27",
            "max": 32342954,
            "min": 0,
            "orientation": "horizontal",
            "style": "IPY_MODEL_7c5424db1e0f46568c5991c767aa3edf",
            "value": 32342954
          }
        },
        "7ea2864cbedf446d927ea708891bd7d0": {
          "model_module": "@jupyter-widgets/controls",
          "model_name": "HTMLModel",
          "model_module_version": "1.5.0",
          "state": {
            "_dom_classes": [],
            "_model_module": "@jupyter-widgets/controls",
            "_model_module_version": "1.5.0",
            "_model_name": "HTMLModel",
            "_view_count": null,
            "_view_module": "@jupyter-widgets/controls",
            "_view_module_version": "1.5.0",
            "_view_name": "HTMLView",
            "description": "",
            "description_tooltip": null,
            "layout": "IPY_MODEL_4ddbdd44324d4f4fb8e77e9f5ff03f46",
            "placeholder": "​",
            "style": "IPY_MODEL_dcb57a7f672c4000b3c54a32697ccda4",
            "value": " 30.8M/30.8M [00:00&lt;00:00, 74.9MB/s]"
          }
        },
        "d7bef538ad324518acf36f78ee0309f7": {
          "model_module": "@jupyter-widgets/base",
          "model_name": "LayoutModel",
          "model_module_version": "1.2.0",
          "state": {
            "_model_module": "@jupyter-widgets/base",
            "_model_module_version": "1.2.0",
            "_model_name": "LayoutModel",
            "_view_count": null,
            "_view_module": "@jupyter-widgets/base",
            "_view_module_version": "1.2.0",
            "_view_name": "LayoutView",
            "align_content": null,
            "align_items": null,
            "align_self": null,
            "border": null,
            "bottom": null,
            "display": null,
            "flex": null,
            "flex_flow": null,
            "grid_area": null,
            "grid_auto_columns": null,
            "grid_auto_flow": null,
            "grid_auto_rows": null,
            "grid_column": null,
            "grid_gap": null,
            "grid_row": null,
            "grid_template_areas": null,
            "grid_template_columns": null,
            "grid_template_rows": null,
            "height": null,
            "justify_content": null,
            "justify_items": null,
            "left": null,
            "margin": null,
            "max_height": null,
            "max_width": null,
            "min_height": null,
            "min_width": null,
            "object_fit": null,
            "object_position": null,
            "order": null,
            "overflow": null,
            "overflow_x": null,
            "overflow_y": null,
            "padding": null,
            "right": null,
            "top": null,
            "visibility": null,
            "width": null
          }
        },
        "8b42f3a1ae0b428db144ac70a2963da1": {
          "model_module": "@jupyter-widgets/base",
          "model_name": "LayoutModel",
          "model_module_version": "1.2.0",
          "state": {
            "_model_module": "@jupyter-widgets/base",
            "_model_module_version": "1.2.0",
            "_model_name": "LayoutModel",
            "_view_count": null,
            "_view_module": "@jupyter-widgets/base",
            "_view_module_version": "1.2.0",
            "_view_name": "LayoutView",
            "align_content": null,
            "align_items": null,
            "align_self": null,
            "border": null,
            "bottom": null,
            "display": null,
            "flex": null,
            "flex_flow": null,
            "grid_area": null,
            "grid_auto_columns": null,
            "grid_auto_flow": null,
            "grid_auto_rows": null,
            "grid_column": null,
            "grid_gap": null,
            "grid_row": null,
            "grid_template_areas": null,
            "grid_template_columns": null,
            "grid_template_rows": null,
            "height": null,
            "justify_content": null,
            "justify_items": null,
            "left": null,
            "margin": null,
            "max_height": null,
            "max_width": null,
            "min_height": null,
            "min_width": null,
            "object_fit": null,
            "object_position": null,
            "order": null,
            "overflow": null,
            "overflow_x": null,
            "overflow_y": null,
            "padding": null,
            "right": null,
            "top": null,
            "visibility": null,
            "width": null
          }
        },
        "add581d6d1d745279a1bbc8e9d490c86": {
          "model_module": "@jupyter-widgets/controls",
          "model_name": "DescriptionStyleModel",
          "model_module_version": "1.5.0",
          "state": {
            "_model_module": "@jupyter-widgets/controls",
            "_model_module_version": "1.5.0",
            "_model_name": "DescriptionStyleModel",
            "_view_count": null,
            "_view_module": "@jupyter-widgets/base",
            "_view_module_version": "1.2.0",
            "_view_name": "StyleView",
            "description_width": ""
          }
        },
        "222965ab83f64c7bb5cc66ee8c04cd27": {
          "model_module": "@jupyter-widgets/base",
          "model_name": "LayoutModel",
          "model_module_version": "1.2.0",
          "state": {
            "_model_module": "@jupyter-widgets/base",
            "_model_module_version": "1.2.0",
            "_model_name": "LayoutModel",
            "_view_count": null,
            "_view_module": "@jupyter-widgets/base",
            "_view_module_version": "1.2.0",
            "_view_name": "LayoutView",
            "align_content": null,
            "align_items": null,
            "align_self": null,
            "border": null,
            "bottom": null,
            "display": null,
            "flex": null,
            "flex_flow": null,
            "grid_area": null,
            "grid_auto_columns": null,
            "grid_auto_flow": null,
            "grid_auto_rows": null,
            "grid_column": null,
            "grid_gap": null,
            "grid_row": null,
            "grid_template_areas": null,
            "grid_template_columns": null,
            "grid_template_rows": null,
            "height": null,
            "justify_content": null,
            "justify_items": null,
            "left": null,
            "margin": null,
            "max_height": null,
            "max_width": null,
            "min_height": null,
            "min_width": null,
            "object_fit": null,
            "object_position": null,
            "order": null,
            "overflow": null,
            "overflow_x": null,
            "overflow_y": null,
            "padding": null,
            "right": null,
            "top": null,
            "visibility": null,
            "width": null
          }
        },
        "7c5424db1e0f46568c5991c767aa3edf": {
          "model_module": "@jupyter-widgets/controls",
          "model_name": "ProgressStyleModel",
          "model_module_version": "1.5.0",
          "state": {
            "_model_module": "@jupyter-widgets/controls",
            "_model_module_version": "1.5.0",
            "_model_name": "ProgressStyleModel",
            "_view_count": null,
            "_view_module": "@jupyter-widgets/base",
            "_view_module_version": "1.2.0",
            "_view_name": "StyleView",
            "bar_color": null,
            "description_width": ""
          }
        },
        "4ddbdd44324d4f4fb8e77e9f5ff03f46": {
          "model_module": "@jupyter-widgets/base",
          "model_name": "LayoutModel",
          "model_module_version": "1.2.0",
          "state": {
            "_model_module": "@jupyter-widgets/base",
            "_model_module_version": "1.2.0",
            "_model_name": "LayoutModel",
            "_view_count": null,
            "_view_module": "@jupyter-widgets/base",
            "_view_module_version": "1.2.0",
            "_view_name": "LayoutView",
            "align_content": null,
            "align_items": null,
            "align_self": null,
            "border": null,
            "bottom": null,
            "display": null,
            "flex": null,
            "flex_flow": null,
            "grid_area": null,
            "grid_auto_columns": null,
            "grid_auto_flow": null,
            "grid_auto_rows": null,
            "grid_column": null,
            "grid_gap": null,
            "grid_row": null,
            "grid_template_areas": null,
            "grid_template_columns": null,
            "grid_template_rows": null,
            "height": null,
            "justify_content": null,
            "justify_items": null,
            "left": null,
            "margin": null,
            "max_height": null,
            "max_width": null,
            "min_height": null,
            "min_width": null,
            "object_fit": null,
            "object_position": null,
            "order": null,
            "overflow": null,
            "overflow_x": null,
            "overflow_y": null,
            "padding": null,
            "right": null,
            "top": null,
            "visibility": null,
            "width": null
          }
        },
        "dcb57a7f672c4000b3c54a32697ccda4": {
          "model_module": "@jupyter-widgets/controls",
          "model_name": "DescriptionStyleModel",
          "model_module_version": "1.5.0",
          "state": {
            "_model_module": "@jupyter-widgets/controls",
            "_model_module_version": "1.5.0",
            "_model_name": "DescriptionStyleModel",
            "_view_count": null,
            "_view_module": "@jupyter-widgets/base",
            "_view_module_version": "1.2.0",
            "_view_name": "StyleView",
            "description_width": ""
          }
        },
        "dec0238632e24c63a6af13ad6d51d286": {
          "model_module": "@jupyter-widgets/controls",
          "model_name": "HBoxModel",
          "model_module_version": "1.5.0",
          "state": {
            "_dom_classes": [],
            "_model_module": "@jupyter-widgets/controls",
            "_model_module_version": "1.5.0",
            "_model_name": "HBoxModel",
            "_view_count": null,
            "_view_module": "@jupyter-widgets/controls",
            "_view_module_version": "1.5.0",
            "_view_name": "HBoxView",
            "box_style": "",
            "children": [
              "IPY_MODEL_1be7d8e62c7c49a3b2eaa18043a726cd",
              "IPY_MODEL_3701dcf04155486bbdf155481182bd02",
              "IPY_MODEL_31fd06e417694823b914ac3510638b4a"
            ],
            "layout": "IPY_MODEL_c5521b4d873240e5957c318bddcbeabc"
          }
        },
        "1be7d8e62c7c49a3b2eaa18043a726cd": {
          "model_module": "@jupyter-widgets/controls",
          "model_name": "HTMLModel",
          "model_module_version": "1.5.0",
          "state": {
            "_dom_classes": [],
            "_model_module": "@jupyter-widgets/controls",
            "_model_module_version": "1.5.0",
            "_model_name": "HTMLModel",
            "_view_count": null,
            "_view_module": "@jupyter-widgets/controls",
            "_view_module_version": "1.5.0",
            "_view_name": "HTMLView",
            "description": "",
            "description_tooltip": null,
            "layout": "IPY_MODEL_53f702e35756451ba488d12583e24054",
            "placeholder": "​",
            "style": "IPY_MODEL_43819675efac4003a41142d7c2b06627",
            "value": "100%"
          }
        },
        "3701dcf04155486bbdf155481182bd02": {
          "model_module": "@jupyter-widgets/controls",
          "model_name": "FloatProgressModel",
          "model_module_version": "1.5.0",
          "state": {
            "_dom_classes": [],
            "_model_module": "@jupyter-widgets/controls",
            "_model_module_version": "1.5.0",
            "_model_name": "FloatProgressModel",
            "_view_count": null,
            "_view_module": "@jupyter-widgets/controls",
            "_view_module_version": "1.5.0",
            "_view_name": "ProgressView",
            "bar_style": "success",
            "description": "",
            "description_tooltip": null,
            "layout": "IPY_MODEL_9a503ccceecb45e0997e9777c37d1226",
            "max": 115730790,
            "min": 0,
            "orientation": "horizontal",
            "style": "IPY_MODEL_e8275c967d46469792dc40a6cccfd979",
            "value": 115730790
          }
        },
        "31fd06e417694823b914ac3510638b4a": {
          "model_module": "@jupyter-widgets/controls",
          "model_name": "HTMLModel",
          "model_module_version": "1.5.0",
          "state": {
            "_dom_classes": [],
            "_model_module": "@jupyter-widgets/controls",
            "_model_module_version": "1.5.0",
            "_model_name": "HTMLModel",
            "_view_count": null,
            "_view_module": "@jupyter-widgets/controls",
            "_view_module_version": "1.5.0",
            "_view_name": "HTMLView",
            "description": "",
            "description_tooltip": null,
            "layout": "IPY_MODEL_cafc9fb8b1ac4d4f9beb35dd58f454ab",
            "placeholder": "​",
            "style": "IPY_MODEL_062a79d845ba4358a8884205b03e7f41",
            "value": " 110M/110M [00:00&lt;00:00, 188MB/s]"
          }
        },
        "c5521b4d873240e5957c318bddcbeabc": {
          "model_module": "@jupyter-widgets/base",
          "model_name": "LayoutModel",
          "model_module_version": "1.2.0",
          "state": {
            "_model_module": "@jupyter-widgets/base",
            "_model_module_version": "1.2.0",
            "_model_name": "LayoutModel",
            "_view_count": null,
            "_view_module": "@jupyter-widgets/base",
            "_view_module_version": "1.2.0",
            "_view_name": "LayoutView",
            "align_content": null,
            "align_items": null,
            "align_self": null,
            "border": null,
            "bottom": null,
            "display": null,
            "flex": null,
            "flex_flow": null,
            "grid_area": null,
            "grid_auto_columns": null,
            "grid_auto_flow": null,
            "grid_auto_rows": null,
            "grid_column": null,
            "grid_gap": null,
            "grid_row": null,
            "grid_template_areas": null,
            "grid_template_columns": null,
            "grid_template_rows": null,
            "height": null,
            "justify_content": null,
            "justify_items": null,
            "left": null,
            "margin": null,
            "max_height": null,
            "max_width": null,
            "min_height": null,
            "min_width": null,
            "object_fit": null,
            "object_position": null,
            "order": null,
            "overflow": null,
            "overflow_x": null,
            "overflow_y": null,
            "padding": null,
            "right": null,
            "top": null,
            "visibility": null,
            "width": null
          }
        },
        "53f702e35756451ba488d12583e24054": {
          "model_module": "@jupyter-widgets/base",
          "model_name": "LayoutModel",
          "model_module_version": "1.2.0",
          "state": {
            "_model_module": "@jupyter-widgets/base",
            "_model_module_version": "1.2.0",
            "_model_name": "LayoutModel",
            "_view_count": null,
            "_view_module": "@jupyter-widgets/base",
            "_view_module_version": "1.2.0",
            "_view_name": "LayoutView",
            "align_content": null,
            "align_items": null,
            "align_self": null,
            "border": null,
            "bottom": null,
            "display": null,
            "flex": null,
            "flex_flow": null,
            "grid_area": null,
            "grid_auto_columns": null,
            "grid_auto_flow": null,
            "grid_auto_rows": null,
            "grid_column": null,
            "grid_gap": null,
            "grid_row": null,
            "grid_template_areas": null,
            "grid_template_columns": null,
            "grid_template_rows": null,
            "height": null,
            "justify_content": null,
            "justify_items": null,
            "left": null,
            "margin": null,
            "max_height": null,
            "max_width": null,
            "min_height": null,
            "min_width": null,
            "object_fit": null,
            "object_position": null,
            "order": null,
            "overflow": null,
            "overflow_x": null,
            "overflow_y": null,
            "padding": null,
            "right": null,
            "top": null,
            "visibility": null,
            "width": null
          }
        },
        "43819675efac4003a41142d7c2b06627": {
          "model_module": "@jupyter-widgets/controls",
          "model_name": "DescriptionStyleModel",
          "model_module_version": "1.5.0",
          "state": {
            "_model_module": "@jupyter-widgets/controls",
            "_model_module_version": "1.5.0",
            "_model_name": "DescriptionStyleModel",
            "_view_count": null,
            "_view_module": "@jupyter-widgets/base",
            "_view_module_version": "1.2.0",
            "_view_name": "StyleView",
            "description_width": ""
          }
        },
        "9a503ccceecb45e0997e9777c37d1226": {
          "model_module": "@jupyter-widgets/base",
          "model_name": "LayoutModel",
          "model_module_version": "1.2.0",
          "state": {
            "_model_module": "@jupyter-widgets/base",
            "_model_module_version": "1.2.0",
            "_model_name": "LayoutModel",
            "_view_count": null,
            "_view_module": "@jupyter-widgets/base",
            "_view_module_version": "1.2.0",
            "_view_name": "LayoutView",
            "align_content": null,
            "align_items": null,
            "align_self": null,
            "border": null,
            "bottom": null,
            "display": null,
            "flex": null,
            "flex_flow": null,
            "grid_area": null,
            "grid_auto_columns": null,
            "grid_auto_flow": null,
            "grid_auto_rows": null,
            "grid_column": null,
            "grid_gap": null,
            "grid_row": null,
            "grid_template_areas": null,
            "grid_template_columns": null,
            "grid_template_rows": null,
            "height": null,
            "justify_content": null,
            "justify_items": null,
            "left": null,
            "margin": null,
            "max_height": null,
            "max_width": null,
            "min_height": null,
            "min_width": null,
            "object_fit": null,
            "object_position": null,
            "order": null,
            "overflow": null,
            "overflow_x": null,
            "overflow_y": null,
            "padding": null,
            "right": null,
            "top": null,
            "visibility": null,
            "width": null
          }
        },
        "e8275c967d46469792dc40a6cccfd979": {
          "model_module": "@jupyter-widgets/controls",
          "model_name": "ProgressStyleModel",
          "model_module_version": "1.5.0",
          "state": {
            "_model_module": "@jupyter-widgets/controls",
            "_model_module_version": "1.5.0",
            "_model_name": "ProgressStyleModel",
            "_view_count": null,
            "_view_module": "@jupyter-widgets/base",
            "_view_module_version": "1.2.0",
            "_view_name": "StyleView",
            "bar_color": null,
            "description_width": ""
          }
        },
        "cafc9fb8b1ac4d4f9beb35dd58f454ab": {
          "model_module": "@jupyter-widgets/base",
          "model_name": "LayoutModel",
          "model_module_version": "1.2.0",
          "state": {
            "_model_module": "@jupyter-widgets/base",
            "_model_module_version": "1.2.0",
            "_model_name": "LayoutModel",
            "_view_count": null,
            "_view_module": "@jupyter-widgets/base",
            "_view_module_version": "1.2.0",
            "_view_name": "LayoutView",
            "align_content": null,
            "align_items": null,
            "align_self": null,
            "border": null,
            "bottom": null,
            "display": null,
            "flex": null,
            "flex_flow": null,
            "grid_area": null,
            "grid_auto_columns": null,
            "grid_auto_flow": null,
            "grid_auto_rows": null,
            "grid_column": null,
            "grid_gap": null,
            "grid_row": null,
            "grid_template_areas": null,
            "grid_template_columns": null,
            "grid_template_rows": null,
            "height": null,
            "justify_content": null,
            "justify_items": null,
            "left": null,
            "margin": null,
            "max_height": null,
            "max_width": null,
            "min_height": null,
            "min_width": null,
            "object_fit": null,
            "object_position": null,
            "order": null,
            "overflow": null,
            "overflow_x": null,
            "overflow_y": null,
            "padding": null,
            "right": null,
            "top": null,
            "visibility": null,
            "width": null
          }
        },
        "062a79d845ba4358a8884205b03e7f41": {
          "model_module": "@jupyter-widgets/controls",
          "model_name": "DescriptionStyleModel",
          "model_module_version": "1.5.0",
          "state": {
            "_model_module": "@jupyter-widgets/controls",
            "_model_module_version": "1.5.0",
            "_model_name": "DescriptionStyleModel",
            "_view_count": null,
            "_view_module": "@jupyter-widgets/base",
            "_view_module_version": "1.2.0",
            "_view_name": "StyleView",
            "description_width": ""
          }
        }
      }
    }
  },
  "cells": [
    {
      "cell_type": "code",
      "source": [
        "!pip install torchinfo"
      ],
      "metadata": {
        "colab": {
          "base_uri": "https://localhost:8080/"
        },
        "id": "vGfFNRr5RyVB",
        "outputId": "64766ca5-de5e-4cbe-d8a2-e5a5ecc1b70c"
      },
      "execution_count": 2,
      "outputs": [
        {
          "output_type": "stream",
          "name": "stdout",
          "text": [
            "Looking in indexes: https://pypi.org/simple, https://us-python.pkg.dev/colab-wheels/public/simple/\n",
            "Collecting torchinfo\n",
            "  Downloading torchinfo-1.7.2-py3-none-any.whl (22 kB)\n",
            "Installing collected packages: torchinfo\n",
            "Successfully installed torchinfo-1.7.2\n"
          ]
        }
      ]
    },
    {
      "cell_type": "code",
      "execution_count": 3,
      "metadata": {
        "id": "BDgxwH167eH9"
      },
      "outputs": [],
      "source": [
        "import pandas as pd \n",
        "import numpy as np\n",
        "import os\n",
        "import torch\n",
        "import torchvision\n",
        "from torchvision import transforms\n",
        "from torchvision.datasets import ImageFolder\n",
        "import matplotlib.pyplot as plt\n",
        "from torch.utils.data.dataloader import DataLoader\n",
        "import torch\n",
        "import torch.nn as nn\n",
        "import torch.optim as optim\n",
        "import torchvision.datasets as datasets\n",
        "import torchvision.transforms as transforms\n",
        "\n",
        "from matplotlib import pyplot as plt\n",
        "import torch\n",
        "from torch import nn\n",
        "import torch.nn.functional as F\n",
        "from torch import optim\n",
        "from torch.autograd import Variable\n",
        "from torchvision import datasets, transforms, models\n",
        "from PIL import Image\n",
        "import numpy as np\n",
        "import os\n",
        "from torch.utils.data.sampler import SubsetRandomSampler\n",
        "import pandas as pd\n",
        "from torchinfo import summary\n",
        "\n"
      ]
    },
    {
      "cell_type": "code",
      "source": [
        "# Connexion à ggdrive\n",
        "from google.colab import drive\n",
        "drive.mount('/content/drive')"
      ],
      "metadata": {
        "id": "VqwUH4_T5J15",
        "outputId": "e7e02a20-7812-4903-e749-e21cfffa571d",
        "colab": {
          "base_uri": "https://localhost:8080/"
        }
      },
      "execution_count": 4,
      "outputs": [
        {
          "output_type": "stream",
          "name": "stdout",
          "text": [
            "Mounted at /content/drive\n"
          ]
        }
      ]
    },
    {
      "cell_type": "code",
      "source": [
        "working_dir = '/content/drive/MyDrive/M2_SISE/DL_MLProjet/Post-hurricane'"
      ],
      "metadata": {
        "id": "bsjqdhjkkdSN"
      },
      "execution_count": 5,
      "outputs": []
    },
    {
      "cell_type": "code",
      "source": [
        "train_damage_dir = working_dir + '/train_another/damage'\n",
        "validation_damage_dir = working_dir + '/validation_another/damage'\n",
        "test_damage_dir = working_dir + '/test/damage'\n",
        "\n",
        "train_nodamage_dir = working_dir + '/train_another/no_damage'\n",
        "validation_nodamage_dir = working_dir + '/validation_another/no_damage'\n",
        "test_nodamage_dir = working_dir + '/test/no_damage'\n",
        "\n",
        "train_dir = working_dir + \"/train_another\"\n",
        "valid_dir = working_dir + \"/validation_another\"\n",
        "\n",
        "print('total training damage images: ',len(os.listdir(train_damage_dir)))\n",
        "print('total validation damage images: ',len(os.listdir(validation_damage_dir)))\n",
        "print('total test damage images: ',len(os.listdir(test_damage_dir)))\n",
        "\n",
        "print('total training no damage images: ',len(os.listdir(train_nodamage_dir)))\n",
        "print('total validation no damage images: ',len(os.listdir(validation_nodamage_dir)))\n",
        "print('total test no damage images: ',len(os.listdir(test_nodamage_dir)))"
      ],
      "metadata": {
        "colab": {
          "base_uri": "https://localhost:8080/"
        },
        "id": "R0wjaURQwv6d",
        "outputId": "fca04ca5-e816-47ca-b5a1-126628f1307b"
      },
      "execution_count": 6,
      "outputs": [
        {
          "output_type": "stream",
          "name": "stdout",
          "text": [
            "total training damage images:  5000\n",
            "total validation damage images:  1000\n",
            "total test damage images:  1000\n",
            "total training no damage images:  5000\n",
            "total validation no damage images:  1000\n",
            "total test no damage images:  1000\n"
          ]
        }
      ]
    },
    {
      "cell_type": "code",
      "source": [
        "train = ImageFolder(train_dir,transform = transforms.Compose([\n",
        "    transforms.Resize((150,150)),transforms.ToTensor()\n",
        "]))\n",
        "\n",
        "valid = ImageFolder(valid_dir,transform = transforms.Compose([\n",
        "    transforms.Resize((150,150)),transforms.ToTensor()\n",
        "]))\n",
        "\n",
        "print(\"Model's classes : \\n\",train.classes)"
      ],
      "metadata": {
        "colab": {
          "base_uri": "https://localhost:8080/"
        },
        "id": "JzSSXOqaxhQc",
        "outputId": "904f13eb-4770-496a-f835-3ee264fb0346"
      },
      "execution_count": 7,
      "outputs": [
        {
          "output_type": "stream",
          "name": "stdout",
          "text": [
            "Model's classes : \n",
            " ['damage', 'no_damage']\n"
          ]
        }
      ]
    },
    {
      "cell_type": "code",
      "source": [
        "device = torch.device(\"cuda\" if torch.cuda.is_available() else \"cpu\")\n",
        "model = models.densenet121(pretrained=True)"
      ],
      "metadata": {
        "colab": {
          "base_uri": "https://localhost:8080/",
          "height": 156,
          "referenced_widgets": [
            "0a829a8cecef4aef90caeb50b31a214a",
            "4a5c9e4c633e4c9baa0d778c4817c2c5",
            "cf51ed04441b4760854503b44bc75024",
            "7ea2864cbedf446d927ea708891bd7d0",
            "d7bef538ad324518acf36f78ee0309f7",
            "8b42f3a1ae0b428db144ac70a2963da1",
            "add581d6d1d745279a1bbc8e9d490c86",
            "222965ab83f64c7bb5cc66ee8c04cd27",
            "7c5424db1e0f46568c5991c767aa3edf",
            "4ddbdd44324d4f4fb8e77e9f5ff03f46",
            "dcb57a7f672c4000b3c54a32697ccda4"
          ]
        },
        "id": "SElS_q-WyPgI",
        "outputId": "134716d3-a35a-43dc-e9e3-76ce2b5a68b0"
      },
      "execution_count": 8,
      "outputs": [
        {
          "output_type": "stream",
          "name": "stderr",
          "text": [
            "/usr/local/lib/python3.8/dist-packages/torchvision/models/_utils.py:208: UserWarning: The parameter 'pretrained' is deprecated since 0.13 and may be removed in the future, please use 'weights' instead.\n",
            "  warnings.warn(\n",
            "/usr/local/lib/python3.8/dist-packages/torchvision/models/_utils.py:223: UserWarning: Arguments other than a weight enum or `None` for 'weights' are deprecated since 0.13 and may be removed in the future. The current behavior is equivalent to passing `weights=DenseNet121_Weights.IMAGENET1K_V1`. You can also use `weights=DenseNet121_Weights.DEFAULT` to get the most up-to-date weights.\n",
            "  warnings.warn(msg)\n",
            "Downloading: \"https://download.pytorch.org/models/densenet121-a639ec97.pth\" to /root/.cache/torch/hub/checkpoints/densenet121-a639ec97.pth\n"
          ]
        },
        {
          "output_type": "display_data",
          "data": {
            "text/plain": [
              "  0%|          | 0.00/30.8M [00:00<?, ?B/s]"
            ],
            "application/vnd.jupyter.widget-view+json": {
              "version_major": 2,
              "version_minor": 0,
              "model_id": "0a829a8cecef4aef90caeb50b31a214a"
            }
          },
          "metadata": {}
        }
      ]
    },
    {
      "cell_type": "code",
      "source": [
        "criterion = nn.CrossEntropyLoss()\n",
        "optimizer = torch.optim.Adam(model.classifier.parameters(), lr=0.003)"
      ],
      "metadata": {
        "id": "xT6LeH_pyORR"
      },
      "execution_count": 9,
      "outputs": []
    },
    {
      "cell_type": "code",
      "source": [
        "train_loader = torch.utils.data.DataLoader(train, batch_size=32, shuffle=True, num_workers=2 , pin_memory = True)\n",
        "valid_loader = torch.utils.data.DataLoader(valid, batch_size=32, shuffle=True, num_workers=2 , pin_memory = True)\n"
      ],
      "metadata": {
        "id": "yrwnYOamxvtv"
      },
      "execution_count": 14,
      "outputs": []
    },
    {
      "cell_type": "code",
      "source": [
        "\n",
        "        \n",
        "n_classes = 2\n",
        "model.fc = nn.Linear(in_features=2048, out_features=n_classes)\n"
      ],
      "metadata": {
        "id": "ybSh03JB3S1h"
      },
      "execution_count": 15,
      "outputs": []
    },
    {
      "cell_type": "code",
      "source": [
        "model.named_parameters()"
      ],
      "metadata": {
        "colab": {
          "base_uri": "https://localhost:8080/"
        },
        "id": "iWQhTG1dJaXd",
        "outputId": "e32f5cd0-b1c2-4578-e616-e39e320b0070"
      },
      "execution_count": 17,
      "outputs": [
        {
          "output_type": "execute_result",
          "data": {
            "text/plain": [
              "<generator object Module.named_parameters at 0x7fee32f7ff90>"
            ]
          },
          "metadata": {},
          "execution_count": 17
        }
      ]
    },
    {
      "cell_type": "code",
      "source": [
        "model.train()\n",
        "# Entrainement\n",
        "for epoch in range(5):\n",
        "    step_train = 0\n",
        "    for inputs, labels in train_loader:\n",
        "        # Propagation avant\n",
        "        inputs.requires_grad_()\n",
        "        outputs = model(inputs)\n",
        "        loss = criterion(outputs, labels)\n",
        "        \n",
        "        # Propagation arrière \n",
        "        optimizer.zero_grad()\n",
        "\n",
        "        for name,param in model.named_parameters():\n",
        "          if \"fc.weight\" in name :\n",
        "            param.requires_grad = True\n",
        "          else :\n",
        "            param.requires_grad = False\n",
        "\n",
        "        loss.backward()\n",
        "        optimizer.step()\n",
        "        step_train += 1 \n",
        "        #print(step_train)\n",
        "        if step_train%20 == 0:\n",
        "          print('Train / Step :', step_train)\n",
        "        if step_train == 100:\n",
        "          break\n",
        "        \n",
        "    # Validation\n",
        "    accuracy = 0\n",
        "    with torch.no_grad():\n",
        "        step_val=0\n",
        "        for inputs, labels in valid_loader:\n",
        "            outputs = model(inputs)\n",
        "            _, predicted = torch.max(outputs.data, 1)\n",
        "            accuracy += (predicted == labels).sum().item()\n",
        "            step_val += 1 \n",
        "            if step_val == 30:\n",
        "              break\n",
        "    accuracy = accuracy / len(valid)\n",
        "    \n",
        "    print(\"Epoch {}/20, Loss : {:.4f}, Accuracy : {:.2f}%\".format(epoch+1, loss.item(), accuracy*100))\n",
        "\n",
        "\n"
      ],
      "metadata": {
        "id": "uH5SMhiPGZ03"
      },
      "execution_count": null,
      "outputs": []
    },
    {
      "cell_type": "markdown",
      "source": [
        "Model densenet 161"
      ],
      "metadata": {
        "id": "dfRsPYsM0ok8"
      }
    },
    {
      "cell_type": "code",
      "source": [
        "model2 = models.densenet161(pretrained=True)\n",
        "\n",
        "criterion = nn.CrossEntropyLoss()\n",
        "optimizer = torch.optim.Adam(model2.classifier.parameters(), lr=0.003)"
      ],
      "metadata": {
        "colab": {
          "base_uri": "https://localhost:8080/",
          "height": 156,
          "referenced_widgets": [
            "dec0238632e24c63a6af13ad6d51d286",
            "1be7d8e62c7c49a3b2eaa18043a726cd",
            "3701dcf04155486bbdf155481182bd02",
            "31fd06e417694823b914ac3510638b4a",
            "c5521b4d873240e5957c318bddcbeabc",
            "53f702e35756451ba488d12583e24054",
            "43819675efac4003a41142d7c2b06627",
            "9a503ccceecb45e0997e9777c37d1226",
            "e8275c967d46469792dc40a6cccfd979",
            "cafc9fb8b1ac4d4f9beb35dd58f454ab",
            "062a79d845ba4358a8884205b03e7f41"
          ]
        },
        "id": "sF6qb9aK0cIp",
        "outputId": "d7b20791-d901-419a-a93a-31d26eda4cb1"
      },
      "execution_count": 25,
      "outputs": [
        {
          "output_type": "stream",
          "name": "stderr",
          "text": [
            "/usr/local/lib/python3.8/dist-packages/torchvision/models/_utils.py:208: UserWarning: The parameter 'pretrained' is deprecated since 0.13 and may be removed in the future, please use 'weights' instead.\n",
            "  warnings.warn(\n",
            "/usr/local/lib/python3.8/dist-packages/torchvision/models/_utils.py:223: UserWarning: Arguments other than a weight enum or `None` for 'weights' are deprecated since 0.13 and may be removed in the future. The current behavior is equivalent to passing `weights=DenseNet161_Weights.IMAGENET1K_V1`. You can also use `weights=DenseNet161_Weights.DEFAULT` to get the most up-to-date weights.\n",
            "  warnings.warn(msg)\n",
            "Downloading: \"https://download.pytorch.org/models/densenet161-8d451a50.pth\" to /root/.cache/torch/hub/checkpoints/densenet161-8d451a50.pth\n"
          ]
        },
        {
          "output_type": "display_data",
          "data": {
            "text/plain": [
              "  0%|          | 0.00/110M [00:00<?, ?B/s]"
            ],
            "application/vnd.jupyter.widget-view+json": {
              "version_major": 2,
              "version_minor": 0,
              "model_id": "dec0238632e24c63a6af13ad6d51d286"
            }
          },
          "metadata": {}
        }
      ]
    },
    {
      "cell_type": "code",
      "source": [
        "n_classes = 2\n",
        "model2.fc = nn.Linear(in_features=2208, out_features=n_classes)\n",
        "\n",
        "summary(model2)"
      ],
      "metadata": {
        "colab": {
          "base_uri": "https://localhost:8080/"
        },
        "id": "SRCEOL1Q1Fpd",
        "outputId": "7a99651d-dbdc-40dc-c99a-1faf71ffb64a"
      },
      "execution_count": 26,
      "outputs": [
        {
          "output_type": "execute_result",
          "data": {
            "text/plain": [
              "=================================================================\n",
              "Layer (type:depth-idx)                   Param #\n",
              "=================================================================\n",
              "DenseNet                                 --\n",
              "├─Sequential: 1-1                        --\n",
              "│    └─Conv2d: 2-1                       14,112\n",
              "│    └─BatchNorm2d: 2-2                  192\n",
              "│    └─ReLU: 2-3                         --\n",
              "│    └─MaxPool2d: 2-4                    --\n",
              "│    └─_DenseBlock: 2-5                  --\n",
              "│    │    └─_DenseLayer: 3-1             101,952\n",
              "│    │    └─_DenseLayer: 3-2             111,264\n",
              "│    │    └─_DenseLayer: 3-3             120,576\n",
              "│    │    └─_DenseLayer: 3-4             129,888\n",
              "│    │    └─_DenseLayer: 3-5             139,200\n",
              "│    │    └─_DenseLayer: 3-6             148,512\n",
              "│    └─_Transition: 2-6                  --\n",
              "│    │    └─BatchNorm2d: 3-7             768\n",
              "│    │    └─ReLU: 3-8                    --\n",
              "│    │    └─Conv2d: 3-9                  73,728\n",
              "│    │    └─AvgPool2d: 3-10              --\n",
              "│    └─_DenseBlock: 2-7                  --\n",
              "│    │    └─_DenseLayer: 3-11            120,576\n",
              "│    │    └─_DenseLayer: 3-12            129,888\n",
              "│    │    └─_DenseLayer: 3-13            139,200\n",
              "│    │    └─_DenseLayer: 3-14            148,512\n",
              "│    │    └─_DenseLayer: 3-15            157,824\n",
              "│    │    └─_DenseLayer: 3-16            167,136\n",
              "│    │    └─_DenseLayer: 3-17            176,448\n",
              "│    │    └─_DenseLayer: 3-18            185,760\n",
              "│    │    └─_DenseLayer: 3-19            195,072\n",
              "│    │    └─_DenseLayer: 3-20            204,384\n",
              "│    │    └─_DenseLayer: 3-21            213,696\n",
              "│    │    └─_DenseLayer: 3-22            223,008\n",
              "│    └─_Transition: 2-8                  --\n",
              "│    │    └─BatchNorm2d: 3-23            1,536\n",
              "│    │    └─ReLU: 3-24                   --\n",
              "│    │    └─Conv2d: 3-25                 294,912\n",
              "│    │    └─AvgPool2d: 3-26              --\n",
              "│    └─_DenseBlock: 2-9                  --\n",
              "│    │    └─_DenseLayer: 3-27            157,824\n",
              "│    │    └─_DenseLayer: 3-28            167,136\n",
              "│    │    └─_DenseLayer: 3-29            176,448\n",
              "│    │    └─_DenseLayer: 3-30            185,760\n",
              "│    │    └─_DenseLayer: 3-31            195,072\n",
              "│    │    └─_DenseLayer: 3-32            204,384\n",
              "│    │    └─_DenseLayer: 3-33            213,696\n",
              "│    │    └─_DenseLayer: 3-34            223,008\n",
              "│    │    └─_DenseLayer: 3-35            232,320\n",
              "│    │    └─_DenseLayer: 3-36            241,632\n",
              "│    │    └─_DenseLayer: 3-37            250,944\n",
              "│    │    └─_DenseLayer: 3-38            260,256\n",
              "│    │    └─_DenseLayer: 3-39            269,568\n",
              "│    │    └─_DenseLayer: 3-40            278,880\n",
              "│    │    └─_DenseLayer: 3-41            288,192\n",
              "│    │    └─_DenseLayer: 3-42            297,504\n",
              "│    │    └─_DenseLayer: 3-43            306,816\n",
              "│    │    └─_DenseLayer: 3-44            316,128\n",
              "│    │    └─_DenseLayer: 3-45            325,440\n",
              "│    │    └─_DenseLayer: 3-46            334,752\n",
              "│    │    └─_DenseLayer: 3-47            344,064\n",
              "│    │    └─_DenseLayer: 3-48            353,376\n",
              "│    │    └─_DenseLayer: 3-49            362,688\n",
              "│    │    └─_DenseLayer: 3-50            372,000\n",
              "│    │    └─_DenseLayer: 3-51            381,312\n",
              "│    │    └─_DenseLayer: 3-52            390,624\n",
              "│    │    └─_DenseLayer: 3-53            399,936\n",
              "│    │    └─_DenseLayer: 3-54            409,248\n",
              "│    │    └─_DenseLayer: 3-55            418,560\n",
              "│    │    └─_DenseLayer: 3-56            427,872\n",
              "│    │    └─_DenseLayer: 3-57            437,184\n",
              "│    │    └─_DenseLayer: 3-58            446,496\n",
              "│    │    └─_DenseLayer: 3-59            455,808\n",
              "│    │    └─_DenseLayer: 3-60            465,120\n",
              "│    │    └─_DenseLayer: 3-61            474,432\n",
              "│    │    └─_DenseLayer: 3-62            483,744\n",
              "│    └─_Transition: 2-10                 --\n",
              "│    │    └─BatchNorm2d: 3-63            4,224\n",
              "│    │    └─ReLU: 3-64                   --\n",
              "│    │    └─Conv2d: 3-65                 2,230,272\n",
              "│    │    └─AvgPool2d: 3-66              --\n",
              "│    └─_DenseBlock: 2-11                 --\n",
              "│    │    └─_DenseLayer: 3-67            288,192\n",
              "│    │    └─_DenseLayer: 3-68            297,504\n",
              "│    │    └─_DenseLayer: 3-69            306,816\n",
              "│    │    └─_DenseLayer: 3-70            316,128\n",
              "│    │    └─_DenseLayer: 3-71            325,440\n",
              "│    │    └─_DenseLayer: 3-72            334,752\n",
              "│    │    └─_DenseLayer: 3-73            344,064\n",
              "│    │    └─_DenseLayer: 3-74            353,376\n",
              "│    │    └─_DenseLayer: 3-75            362,688\n",
              "│    │    └─_DenseLayer: 3-76            372,000\n",
              "│    │    └─_DenseLayer: 3-77            381,312\n",
              "│    │    └─_DenseLayer: 3-78            390,624\n",
              "│    │    └─_DenseLayer: 3-79            399,936\n",
              "│    │    └─_DenseLayer: 3-80            409,248\n",
              "│    │    └─_DenseLayer: 3-81            418,560\n",
              "│    │    └─_DenseLayer: 3-82            427,872\n",
              "│    │    └─_DenseLayer: 3-83            437,184\n",
              "│    │    └─_DenseLayer: 3-84            446,496\n",
              "│    │    └─_DenseLayer: 3-85            455,808\n",
              "│    │    └─_DenseLayer: 3-86            465,120\n",
              "│    │    └─_DenseLayer: 3-87            474,432\n",
              "│    │    └─_DenseLayer: 3-88            483,744\n",
              "│    │    └─_DenseLayer: 3-89            493,056\n",
              "│    │    └─_DenseLayer: 3-90            502,368\n",
              "│    └─BatchNorm2d: 2-12                 4,416\n",
              "├─Linear: 1-2                            2,209,000\n",
              "├─Linear: 1-3                            4,418\n",
              "=================================================================\n",
              "Total params: 28,685,418\n",
              "Trainable params: 28,685,418\n",
              "Non-trainable params: 0\n",
              "================================================================="
            ]
          },
          "metadata": {},
          "execution_count": 26
        }
      ]
    },
    {
      "cell_type": "code",
      "source": [
        "model2.train()\n",
        "# Entrainement\n",
        "for epoch in range(5):\n",
        "    step_train = 0\n",
        "    for inputs, labels in train_loader:\n",
        "        # Propagation avant\n",
        "        inputs.requires_grad_()\n",
        "        outputs = model2(inputs)\n",
        "        loss = criterion(outputs, labels)\n",
        "        \n",
        "        # Propagation arrière \n",
        "        optimizer.zero_grad()\n",
        "\n",
        "        for name,param in model2.named_parameters():\n",
        "          if \"fc.weight\" in name :\n",
        "            param.requires_grad = True\n",
        "          else :\n",
        "            param.requires_grad = False\n",
        "\n",
        "        loss.backward()\n",
        "        optimizer.step()\n",
        "        step_train += 1 \n",
        "        #print(step_train)\n",
        "        if step_train%20 == 0:\n",
        "          print('Train / Step :', step_train)\n",
        "        if step_train == 100:\n",
        "          break\n",
        "        \n",
        "    # Validation\n",
        "    accuracy = 0\n",
        "    with torch.no_grad():\n",
        "        step_val=0\n",
        "        for inputs, labels in valid_loader:\n",
        "            outputs = model2(inputs)\n",
        "            _, predicted = torch.max(outputs.data, 1)\n",
        "            accuracy += (predicted == labels).sum().item()\n",
        "            step_val += 1 \n",
        "            if step_val == 30:\n",
        "              break\n",
        "    accuracy = accuracy / len(valid)\n",
        "    \n",
        "    print(\"Epoch {}/20, Loss : {:.4f}, Accuracy : {:.2f}%\".format(epoch+1, loss.item(), accuracy*100))"
      ],
      "metadata": {
        "id": "gG0o0kvc1Usv"
      },
      "execution_count": null,
      "outputs": []
    }
  ]
}